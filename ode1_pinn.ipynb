{
 "cells": [
  {
   "cell_type": "code",
   "execution_count": null,
   "metadata": {},
   "outputs": [],
   "source": [
    "# Visualize the results from a ode1_pinn.py run."
   ]
  },
  {
   "cell_type": "code",
   "execution_count": null,
   "metadata": {},
   "outputs": [],
   "source": [
    "from importlib import import_module\n",
    "import os\n",
    "import numpy as np\n",
    "import matplotlib.pyplot as plt\n",
    "import sys"
   ]
  },
  {
   "cell_type": "code",
   "execution_count": null,
   "metadata": {},
   "outputs": [],
   "source": [
    "# Specify the run ID (aka problem name).\n",
    "runid = \"lagaris01\"\n",
    "\n",
    "# Add the subdirectory for the run results to the module search path.\n",
    "run_path = os.path.join(\".\", runid)\n",
    "sys.path.append(run_path)\n",
    "\n",
    "# Import the problem definition from the run results directory.\n",
    "p = import_module(runid)\n",
    "\n",
    "# Read the run hyperparameters from the run results directory.\n",
    "import hyperparameters as hp"
   ]
  },
  {
   "cell_type": "code",
   "execution_count": null,
   "metadata": {},
   "outputs": [],
   "source": [
    "# Load the training points, trained values, and trained derivatives\n",
    "x_train = np.loadtxt(os.path.join(runid, \"x_train.dat\"))\n",
    "y_train = np.loadtxt(os.path.join(runid, \"y_train.dat\"))\n",
    "dy_dx_train = np.loadtxt(os.path.join(runid, \"dy_dx_train.dat\"))"
   ]
  },
  {
   "cell_type": "code",
   "execution_count": null,
   "metadata": {},
   "outputs": [],
   "source": [
    "# Load the validation points, validation values, and validation derivatives\n",
    "x_val = np.loadtxt(os.path.join(runid, \"x_val.dat\"))\n",
    "y_val = np.loadtxt(os.path.join(runid, \"y_val.dat\"))\n",
    "dy_dx_val = np.loadtxt(os.path.join(runid, \"dy_dx_val.dat\"))"
   ]
  },
  {
   "cell_type": "code",
   "execution_count": null,
   "metadata": {},
   "outputs": [],
   "source": [
    "# Load the loss function history.\n",
    "losses = np.loadtxt(os.path.join(runid, \"losses.dat\"))"
   ]
  },
  {
   "cell_type": "code",
   "execution_count": null,
   "metadata": {},
   "outputs": [],
   "source": [
    "# Format the x-axis labels.\n",
    "x_labels = [\"%.1f\" % x for x in x_train]"
   ]
  },
  {
   "cell_type": "code",
   "execution_count": null,
   "metadata": {},
   "outputs": [],
   "source": [
    "# Plot the loss function history.\n",
    "plt.semilogy(losses)\n",
    "plt.xlabel(\"Epoch\")\n",
    "plt.ylabel(\"Loss function\")\n",
    "plt.grid()\n",
    "plt.title(\"Loss function evolution for %s\" % runid)\n",
    "plt.show()"
   ]
  },
  {
   "cell_type": "code",
   "execution_count": null,
   "metadata": {},
   "outputs": [],
   "source": [
    "# Plot the trained y-values.\n",
    "plt.plot(x_train, y_train)\n",
    "plt.title(\"Trained y(x) for %s\" % runid)\n",
    "plt.xlabel(\"x\")\n",
    "plt.ylabel(\"y\")\n",
    "plt.grid()\n",
    "plt.show()"
   ]
  },
  {
   "cell_type": "code",
   "execution_count": null,
   "metadata": {},
   "outputs": [],
   "source": [
    "# Plot the trained dy/dx values.\n",
    "plt.plot(x_train, dy_dx_train)\n",
    "plt.title(\"Trained dy/dx for %s\" % runid)\n",
    "plt.xlabel(\"x\")\n",
    "plt.ylabel(\"dy/dx\")\n",
    "plt.grid()\n",
    "plt.show()"
   ]
  },
  {
   "cell_type": "code",
   "execution_count": null,
   "metadata": {},
   "outputs": [],
   "source": [
    "# If the analytical solution is available, plot the error in the trained y-values.\n",
    "if p.analytical_solution:\n",
    "    y_analytical = p.analytical_solution(x_train)\n",
    "    y_error = y_train - y_analytical\n",
    "    rmse = np.sqrt(np.sum(y_error**2)/len(y_error))\n",
    "    plt.plot(x_train, y_error)\n",
    "    plt.title(\"Error in trained y(x)\")\n",
    "    plt.xlabel(\"x\")\n",
    "    plt.ylabel(\"$y_t - y_a$\")\n",
    "    plt.grid()\n",
    "    plt.show()\n",
    "    print(\"RMSE = %s\" % rmse)"
   ]
  },
  {
   "cell_type": "code",
   "execution_count": null,
   "metadata": {},
   "outputs": [],
   "source": [
    "# If the analytical derivative is available, plot the error in the trained dy/dx values.\n",
    "if p.analytical_derivative:\n",
    "    dy_dx_analytical = p.analytical_derivative(x_train)\n",
    "    dy_dx_error = dy_dx_train - dy_dx_analytical\n",
    "    rmse = np.sqrt(np.sum(dy_dx_error**2)/len(dy_dx_error))\n",
    "    plt.plot(x_train, dy_dx_error)\n",
    "    plt.title(\"Error in trained dy/dx\")\n",
    "    plt.xlabel(\"x\")\n",
    "    plt.ylabel(\"$(dy/dx)_t - (dy/dx)_a$\")\n",
    "    plt.grid()\n",
    "    plt.show()\n",
    "    print(\"RMSE = %s\" % rmse)"
   ]
  },
  {
   "cell_type": "code",
   "execution_count": null,
   "metadata": {},
   "outputs": [],
   "source": [
    "# Plot the validation y-values.\n",
    "plt.plot(x_val, y_val)\n",
    "plt.title(\"Validation y(x) for %s\" % runid)\n",
    "plt.xlabel(\"x\")\n",
    "plt.ylabel(\"y\")\n",
    "plt.grid()\n",
    "plt.show()"
   ]
  },
  {
   "cell_type": "code",
   "execution_count": null,
   "metadata": {},
   "outputs": [],
   "source": [
    "# Plot the validation dy/dx values.\n",
    "plt.plot(x_val, dy_dx_val)\n",
    "plt.title(\"Validation dy/dx for %s\" % runid)\n",
    "plt.xlabel(\"x\")\n",
    "plt.ylabel(\"dy/dx\")\n",
    "plt.grid()\n",
    "plt.show()"
   ]
  },
  {
   "cell_type": "code",
   "execution_count": null,
   "metadata": {},
   "outputs": [],
   "source": [
    "# If the analytical solution is available, plot the error in the validation y-values.\n",
    "if p.analytical_solution:\n",
    "    y_analytical = p.analytical_solution(x_val)\n",
    "    y_error = y_val - y_analytical\n",
    "    rmse = np.sqrt(np.sum(y_error**2)/len(y_error))\n",
    "    plt.plot(x_val, y_error)\n",
    "    plt.title(\"Error in validation y(x)\")\n",
    "    plt.xlabel(\"x\")\n",
    "    plt.ylabel(\"$y_v - y_a$\")\n",
    "    plt.grid()\n",
    "    plt.show()\n",
    "    print(\"RMSE = %s\" % rmse)"
   ]
  },
  {
   "cell_type": "code",
   "execution_count": null,
   "metadata": {},
   "outputs": [],
   "source": [
    "# If the analytical derivative is available, plot the error in the validation dy/dx values.\n",
    "if p.analytical_derivative:\n",
    "    dy_dx_analytical = p.analytical_derivative(x_val)\n",
    "    dy_dx_error = dy_dx_val - dy_dx_analytical\n",
    "    rmse = np.sqrt(np.sum(dy_dx_error**2)/len(dy_dx_error))\n",
    "    plt.plot(x_val, dy_dx_error)\n",
    "    plt.title(\"Error in validation dy/dx\")\n",
    "    plt.xlabel(\"x\")\n",
    "    plt.ylabel(\"$(dy/dx)_v - (dy/dx)_a$\")\n",
    "    plt.grid()\n",
    "    plt.show()\n",
    "    print(\"RMSE = %s\" % rmse)"
   ]
  }
 ],
 "metadata": {
  "interpreter": {
   "hash": "a07c0acb169da517a2aee1af5715f209159e3774e84a59a2afbabbcc4a64edd9"
  },
  "kernelspec": {
   "display_name": "Python 3 (ipykernel)",
   "language": "python",
   "name": "python3"
  },
  "language_info": {
   "codemirror_mode": {
    "name": "ipython",
    "version": 3
   },
   "file_extension": ".py",
   "mimetype": "text/x-python",
   "name": "python",
   "nbconvert_exporter": "python",
   "pygments_lexer": "ipython3",
   "version": "3.8.13"
  }
 },
 "nbformat": 4,
 "nbformat_minor": 4
}
