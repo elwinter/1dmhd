{
 "cells": [
  {
   "cell_type": "code",
   "execution_count": null,
   "metadata": {},
   "outputs": [],
   "source": [
    "# Visualize the results from a pde1bvp_pinn.py run."
   ]
  },
  {
   "cell_type": "markdown",
   "metadata": {},
   "source": []
  },
  {
   "cell_type": "code",
   "execution_count": null,
   "metadata": {},
   "outputs": [],
   "source": [
    "from importlib import import_module\n",
    "import os\n",
    "import numpy as np\n",
    "import matplotlib.pyplot as plt\n",
    "from mpl_toolkits.mplot3d import Axes3D\n",
    "import sys"
   ]
  },
  {
   "cell_type": "code",
   "execution_count": null,
   "metadata": {},
   "outputs": [],
   "source": [
    "# Specify the run ID (aka problem name).\n",
    "runid = \"transport\"\n",
    "\n",
    "# Add the subdirectory for the problem to the module search path.\n",
    "run_path = os.path.join(\".\", runid)\n",
    "sys.path.append(run_path)\n",
    "\n",
    "# Import the problem definition.\n",
    "p = import_module(runid)\n",
    "\n",
    "# Read the run hyperparameters.\n",
    "import hyperparameters as hp"
   ]
  },
  {
   "cell_type": "code",
   "execution_count": null,
   "metadata": {},
   "outputs": [],
   "source": [
    "# Load the training and validation points.\n",
    "xy_train = np.loadtxt(os.path.join(runid, \"xy_train.dat\"))\n",
    "xy_val = np.loadtxt(os.path.join(runid, \"xy_val.dat\"))"
   ]
  },
  {
   "cell_type": "code",
   "execution_count": null,
   "metadata": {},
   "outputs": [],
   "source": [
    "# Format the axis labels.\n",
    "xx = np.linspace(0, 1, hp.nx_train)\n",
    "x_labels = [\"%.1f\" % x for x in xx]\n",
    "y_labels = [\"%.1f\" % y for y in xx]"
   ]
  },
  {
   "cell_type": "code",
   "execution_count": null,
   "metadata": {},
   "outputs": [],
   "source": [
    "# Load the loss function histories.\n",
    "losses = np.loadtxt(os.path.join(runid, \"losses.dat\"))\n",
    "# losses_in = np.loadtxt(os.path.join(runid, \"losses_in.dat\"))"
   ]
  },
  {
   "cell_type": "code",
   "execution_count": null,
   "metadata": {},
   "outputs": [],
   "source": [
    "# Plot the loss function histories.\n",
    "plt.semilogy(losses, label=\"L (total)\")\n",
    "plt.xlabel(\"Epoch\")\n",
    "plt.ylabel(\"Loss function\")\n",
    "plt.legend()\n",
    "plt.grid()\n",
    "plt.title(\"Loss function evolution for %s\\n$\\eta$=%s, H=%s, $n_x$=%s\" %\n",
    "          (runid, hp.learning_rate, hp.H, hp.nx_train))\n",
    "plt.show()"
   ]
  },
  {
   "cell_type": "code",
   "execution_count": null,
   "metadata": {},
   "outputs": [],
   "source": [
    "# Load the trained and validation Y-values.\n",
    "Y_train = np.loadtxt(os.path.join(runid, \"Y_train.dat\"))\n",
    "Y_val = np.loadtxt(os.path.join(runid, \"Y_val.dat\"))\n"
   ]
  },
  {
   "cell_type": "code",
   "execution_count": null,
   "metadata": {},
   "outputs": [],
   "source": [
    "# For surface plotting, reshape as (n_x, n_y), then transpose.\n",
    "Z = Y_train.reshape((hp.nx_train, hp.ny_train)).T\n",
    "x_train = np.linspace(0, 1, hp.nx_train)\n",
    "y_train = np.linspace(0, 1, hp.ny_train)\n",
    "# Plot the trained solution at the training points.\n",
    "fig = plt.figure()\n",
    "(X, Y) = np.meshgrid(x_train, y_train)\n",
    "ax = Axes3D(fig, auto_add_to_figure=False)\n",
    "fig.add_axes(ax)\n",
    "ax.plot_surface(X, Y, Z)\n",
    "ax.set_xlabel('x')\n",
    "ax.set_ylabel('y')\n",
    "ax.set_zlabel('$\\psi_t(x,y)$')\n",
    "plt.show()"
   ]
  },
  {
   "cell_type": "code",
   "execution_count": null,
   "metadata": {},
   "outputs": [],
   "source": [
    "# If solution available, plot the error in the trained z-values.\n",
    "n_train = len(xy_train)\n",
    "if p.analytical_solution is not None:\n",
    "    Y_analytical = p.analytical_solution(xy_train).numpy().reshape(n_train,)\n",
    "    Y_error = Y_train - Y_analytical\n",
    "    rmse = np.sqrt(np.sum(Y_error**2)/len(Y_error))\n",
    "    Z = Y_error.reshape((hp.nx_train, hp.ny_train)).T\n",
    "    (X, Y) = np.meshgrid(x_train, y_train)\n",
    "    fig = plt.figure()\n",
    "    ax = Axes3D(fig, auto_add_to_figure=False)\n",
    "    fig.add_axes(ax)\n",
    "    ax.plot_surface(X, Y, Z)\n",
    "    ax.set_xlabel('x')\n",
    "    ax.set_ylabel('y')\n",
    "    ax.set_zlabel('$\\psi_t(x,y) - \\psi_a(x,y)$')\n",
    "    plt.show()\n",
    "    print(\"RMSE = %s\" % rmse)"
   ]
  },
  {
   "cell_type": "code",
   "execution_count": null,
   "metadata": {},
   "outputs": [],
   "source": []
  }
 ],
 "metadata": {
  "interpreter": {
   "hash": "a07c0acb169da517a2aee1af5715f209159e3774e84a59a2afbabbcc4a64edd9"
  },
  "kernelspec": {
   "display_name": "Python 3 (ipykernel)",
   "language": "python",
   "name": "python3"
  },
  "language_info": {
   "codemirror_mode": {
    "name": "ipython",
    "version": 3
   },
   "file_extension": ".py",
   "mimetype": "text/x-python",
   "name": "python",
   "nbconvert_exporter": "python",
   "pygments_lexer": "ipython3",
   "version": "3.8.13"
  }
 },
 "nbformat": 4,
 "nbformat_minor": 4
}
