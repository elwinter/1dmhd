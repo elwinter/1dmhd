{
 "cells": [
  {
   "cell_type": "code",
   "execution_count": null,
   "metadata": {},
   "outputs": [],
   "source": [
    "# Visualize the results from a pde2bvp_pinn.py run."
   ]
  },
  {
   "cell_type": "code",
   "execution_count": null,
   "metadata": {},
   "outputs": [],
   "source": [
    "from importlib import import_module\n",
    "import os\n",
    "import numpy as np\n",
    "import matplotlib.pyplot as plt\n",
    "from mpl_toolkits.mplot3d import Axes3D\n",
    "import seaborn as sns\n",
    "import sys"
   ]
  },
  {
   "cell_type": "code",
   "execution_count": null,
   "metadata": {},
   "outputs": [],
   "source": [
    "# Specify the run ID (aka problem name).\n",
    "runid = \"lagaris05\"\n",
    "\n",
    "# Add the subdirectory for the run results to the module search path.\n",
    "run_path = os.path.join(\".\", runid)\n",
    "sys.path.append(run_path)\n",
    "\n",
    "# Import the problem definition from the run results directory.\n",
    "p = import_module(runid)\n",
    "\n",
    "# Read the run hyperparameters from the run results directory.\n",
    "import hyperparameters as hp"
   ]
  },
  {
   "cell_type": "code",
   "execution_count": null,
   "metadata": {},
   "outputs": [],
   "source": [
    "# Load the training points, trained values, and trained derivatives\n",
    "xy_train = np.loadtxt(os.path.join(runid, \"xy_train.dat\"))\n",
    "Y_train = np.loadtxt(os.path.join(runid, \"Y_train.dat\"))\n",
    "delY_train = np.loadtxt(os.path.join(runid, \"delY_train.dat\"))\n",
    "del2Y_train = np.loadtxt(os.path.join(runid, \"del2Y_train.dat\"))"
   ]
  },
  {
   "cell_type": "code",
   "execution_count": null,
   "metadata": {},
   "outputs": [],
   "source": [
    "# Load the validation points, values, and derivatives\n",
    "xy_val = np.loadtxt(os.path.join(runid, \"xy_val.dat\"))\n",
    "Y_val = np.loadtxt(os.path.join(runid, \"Y_val.dat\"))\n",
    "delY_val = np.loadtxt(os.path.join(runid, \"delY_val.dat\"))\n",
    "del2Y_val = np.loadtxt(os.path.join(runid, \"del2Y_val.dat\"))"
   ]
  },
  {
   "cell_type": "code",
   "execution_count": null,
   "metadata": {},
   "outputs": [],
   "source": [
    "# Load the loss function histories.\n",
    "losses = np.loadtxt(os.path.join(runid, \"losses.dat\"))\n",
    "losses_in = np.loadtxt(os.path.join(runid, \"losses_in.dat\"))\n",
    "losses_bc = np.loadtxt(os.path.join(runid, \"losses_bc.dat\"))"
   ]
  },
  {
   "cell_type": "code",
   "execution_count": null,
   "metadata": {},
   "outputs": [],
   "source": [
    "# Format the axis labels.\n",
    "x_labels = [\"%.1f\" % x for x in xy_train[:, 0]]\n",
    "y_labels = [\"%.1f\" % y for y in xy_train[:, 1]]"
   ]
  },
  {
   "cell_type": "code",
   "execution_count": null,
   "metadata": {},
   "outputs": [],
   "source": [
    "# Plot the loss function histories.\n",
    "plt.semilogy(losses, label=\"L (total)\")\n",
    "plt.semilogy(losses_in, label=\"L (in)\")\n",
    "plt.semilogy(losses_bc, label=\"L (BC)\")\n",
    "plt.legend()\n",
    "plt.xlabel(\"Epoch\")\n",
    "plt.ylabel(\"Loss function\")\n",
    "plt.grid()\n",
    "plt.title(\"Loss function evolution for %s\" % runid)\n",
    "plt.show()"
   ]
  },
  {
   "cell_type": "code",
   "execution_count": null,
   "metadata": {},
   "outputs": [],
   "source": [
    "# Plot the trained solution at the training points.\n",
    "# For surface plotting, reshape as (n_x, n_y), then transpose.\n",
    "Z = Y_train.reshape((hp.nx_train, hp.ny_train)).T\n",
    "x_train = np.linspace(p.x0, p.x1, hp.nx_train)\n",
    "y_train = np.linspace(p.y0, p.y1, hp.ny_train)\n",
    "fig = plt.figure()\n",
    "(X, Y) = np.meshgrid(x_train, y_train)\n",
    "ax = Axes3D(fig, auto_add_to_figure=False)\n",
    "fig.add_axes(ax)\n",
    "ax.plot_surface(X, Y, Z)\n",
    "ax.set_xlabel('x')\n",
    "ax.set_ylabel('y')\n",
    "ax.set_zlabel('$\\psi_t(x,y)$')\n",
    "plt.show()"
   ]
  },
  {
   "cell_type": "code",
   "execution_count": null,
   "metadata": {},
   "outputs": [],
   "source": [
    "# Plot the trained dY/dx at the training points.\n",
    "# For surface plotting, reshape as (n_x, n_y), then transpose.\n",
    "Z = delY_train[:, 0].reshape((hp.nx_train, hp.ny_train)).T\n",
    "fig = plt.figure()\n",
    "(X, Y) = np.meshgrid(x_train, y_train)\n",
    "ax = Axes3D(fig, auto_add_to_figure=False)\n",
    "fig.add_axes(ax)\n",
    "ax.plot_surface(X, Y, Z)\n",
    "ax.set_xlabel('x')\n",
    "ax.set_ylabel('y')\n",
    "ax.set_zlabel('$\\partial \\psi_t/\\partial x$')\n",
    "plt.show()"
   ]
  },
  {
   "cell_type": "code",
   "execution_count": null,
   "metadata": {},
   "outputs": [],
   "source": [
    "# Plot the trained dY/dy at the training points.\n",
    "# For surface plotting, reshape as (n_x, n_y), then transpose.\n",
    "Z = delY_train[:, 1].reshape((hp.nx_train, hp.ny_train)).T\n",
    "fig = plt.figure()\n",
    "(X, Y) = np.meshgrid(x_train, y_train)\n",
    "ax = Axes3D(fig, auto_add_to_figure=False)\n",
    "fig.add_axes(ax)\n",
    "ax.plot_surface(X, Y, Z)\n",
    "ax.set_xlabel('x')\n",
    "ax.set_ylabel('y')\n",
    "ax.set_zlabel('$\\partial \\psi_t/\\partial y$')\n",
    "plt.show()"
   ]
  },
  {
   "cell_type": "code",
   "execution_count": null,
   "metadata": {},
   "outputs": [],
   "source": [
    "# Plot the trained d2Y/dx2 at the training points.\n",
    "# For surface plotting, reshape as (n_x, n_y), then transpose.\n",
    "Z = del2Y_train[:, 0].reshape((hp.nx_train, hp.ny_train)).T\n",
    "fig = plt.figure()\n",
    "(X, Y) = np.meshgrid(x_train, y_train)\n",
    "ax = Axes3D(fig, auto_add_to_figure=False)\n",
    "fig.add_axes(ax)\n",
    "ax.plot_surface(X, Y, Z)\n",
    "ax.set_xlabel('x')\n",
    "ax.set_ylabel('y')\n",
    "ax.set_zlabel('$\\partial^2 \\psi_t/\\partial x^2$')\n",
    "plt.show()"
   ]
  },
  {
   "cell_type": "code",
   "execution_count": null,
   "metadata": {},
   "outputs": [],
   "source": [
    "# Plot the trained d2Y/dy2 at the training points.\n",
    "# For surface plotting, reshape as (n_x, n_y), then transpose.\n",
    "Z = del2Y_train[:, 1].reshape((hp.nx_train, hp.ny_train)).T\n",
    "fig = plt.figure()\n",
    "(X, Y) = np.meshgrid(x_train, y_train)\n",
    "ax = Axes3D(fig, auto_add_to_figure=False)\n",
    "fig.add_axes(ax)\n",
    "ax.plot_surface(X, Y, Z)\n",
    "ax.set_xlabel('x')\n",
    "ax.set_ylabel('y')\n",
    "ax.set_zlabel('$\\partial^2 \\psi_t/\\partial y^2$')\n",
    "plt.show()"
   ]
  },
  {
   "cell_type": "code",
   "execution_count": null,
   "metadata": {},
   "outputs": [],
   "source": [
    "# If solution available, plot the error in the trained solution.\n",
    "n_train = len(xy_train)\n",
    "if p.analytical_solution:\n",
    "    Y_analytical = p.analytical_solution(xy_train).numpy().reshape(n_train,)\n",
    "    Y_error = Y_train - Y_analytical\n",
    "    rmse = np.sqrt(np.sum(Y_error**2)/len(Y_error))\n",
    "    Z = Y_error.reshape((hp.nx_train, hp.ny_train)).T\n",
    "    (X, Y) = np.meshgrid(x_train, y_train)\n",
    "    fig = plt.figure()\n",
    "    ax = Axes3D(fig, auto_add_to_figure=False)\n",
    "    fig.add_axes(ax)\n",
    "    ax.plot_surface(X, Y, Z)\n",
    "    ax.set_xlabel('x')\n",
    "    ax.set_ylabel('y')\n",
    "    ax.set_zlabel('$\\psi_t(x,y) - \\psi_a(x,y)$')\n",
    "    plt.show()\n",
    "    print(\"RMSE = %s\" % rmse)"
   ]
  },
  {
   "cell_type": "code",
   "execution_count": null,
   "metadata": {},
   "outputs": [],
   "source": [
    "# If solution available, plot the error in the trained dY/dx.\n",
    "n_train = len(xy_train)\n",
    "if p.analytical_x_derivative_1:\n",
    "    dY_dx_analytical = p.analytical_x_derivative_1(xy_train).numpy().reshape(n_train,)\n",
    "    dY_dx_error = delY_train[:, 0] - dY_dx_analytical\n",
    "    rmse = np.sqrt(np.sum(dY_dx_error**2)/len(dY_dx_error))\n",
    "    Z = dY_dx_error.reshape((hp.nx_train, hp.ny_train)).T\n",
    "    (X, Y) = np.meshgrid(x_train, y_train)\n",
    "    fig = plt.figure()\n",
    "    ax = Axes3D(fig, auto_add_to_figure=False)\n",
    "    fig.add_axes(ax)\n",
    "    ax.plot_surface(X, Y, Z)\n",
    "    ax.set_xlabel('x')\n",
    "    ax.set_ylabel('y')\n",
    "    ax.set_zlabel('$(\\partial \\psi/\\partial x)_t - (\\partial \\psi/\\partial x)_a$')\n",
    "    plt.show()\n",
    "    print(\"RMSE = %s\" % rmse)"
   ]
  },
  {
   "cell_type": "code",
   "execution_count": null,
   "metadata": {},
   "outputs": [],
   "source": [
    "# If solution available, plot the error in the trained dY/dy.\n",
    "n_train = len(xy_train)\n",
    "if p.analytical_y_derivative_1:\n",
    "    dY_dy_analytical = p.analytical_y_derivative_1(xy_train).numpy().reshape(n_train,)\n",
    "    dY_dy_error = delY_train[:, 1] - dY_dy_analytical\n",
    "    rmse = np.sqrt(np.sum(dY_dy_error**2)/len(dY_dy_error))\n",
    "    Z = dY_dy_error.reshape((hp.nx_train, hp.ny_train)).T\n",
    "    (X, Y) = np.meshgrid(x_train, y_train)\n",
    "    fig = plt.figure()\n",
    "    ax = Axes3D(fig, auto_add_to_figure=False)\n",
    "    fig.add_axes(ax)\n",
    "    ax.plot_surface(X, Y, Z)\n",
    "    ax.set_xlabel('x')\n",
    "    ax.set_ylabel('y')\n",
    "    ax.set_zlabel('$(\\partial \\psi/\\partial y)_t - (\\partial \\psi/\\partial y)_a$')\n",
    "    plt.show()\n",
    "    print(\"RMSE = %s\" % rmse)"
   ]
  },
  {
   "cell_type": "code",
   "execution_count": null,
   "metadata": {},
   "outputs": [],
   "source": [
    "# If solution available, plot the error in the trained d2Y/dx2.\n",
    "n_train = len(xy_train)\n",
    "if p.analytical_x_derivative_2:\n",
    "    d2Y_dx2_analytical = p.analytical_x_derivative_2(xy_train).numpy().reshape(n_train,)\n",
    "    d2Y_dx2_error = del2Y_train[:, 0] - d2Y_dx2_analytical\n",
    "    rmse = np.sqrt(np.sum(d2Y_dx2_error**2)/len(d2Y_dx2_error))\n",
    "    Z = d2Y_dx2_error.reshape((hp.nx_train, hp.ny_train)).T\n",
    "    (X, Y) = np.meshgrid(x_train, y_train)\n",
    "    fig = plt.figure()\n",
    "    ax = Axes3D(fig, auto_add_to_figure=False)\n",
    "    fig.add_axes(ax)\n",
    "    ax.plot_surface(X, Y, Z)\n",
    "    ax.set_xlabel('x')\n",
    "    ax.set_ylabel('y')\n",
    "    ax.set_zlabel('$(\\partial^2 \\psi/\\partial x^2)_t - (\\partial^2 \\psi/\\partial x^2)_a$')\n",
    "    plt.show()\n",
    "    print(\"RMSE = %s\" % rmse)"
   ]
  },
  {
   "cell_type": "code",
   "execution_count": null,
   "metadata": {},
   "outputs": [],
   "source": [
    "# If solution available, plot the error in the trained d2Y/dy2.\n",
    "n_train = len(xy_train)\n",
    "if p.analytical_y_derivative_2:\n",
    "    d2Y_dy2_analytical = p.analytical_y_derivative_2(xy_train).numpy().reshape(n_train,)\n",
    "    d2Y_dy2_error = del2Y_train[:, 1] - d2Y_dy2_analytical\n",
    "    rmse = np.sqrt(np.sum(d2Y_dy2_error**2)/len(d2Y_dy2_error))\n",
    "    Z = d2Y_dy2_error.reshape((hp.nx_train, hp.ny_train)).T\n",
    "    (X, Y) = np.meshgrid(x_train, y_train)\n",
    "    fig = plt.figure()\n",
    "    ax = Axes3D(fig, auto_add_to_figure=False)\n",
    "    fig.add_axes(ax)\n",
    "    ax.plot_surface(X, Y, Z)\n",
    "    ax.set_xlabel('x')\n",
    "    ax.set_ylabel('y')\n",
    "    ax.set_zlabel('$(\\partial^2 \\psi/\\partial y^2)_t - (\\partial^2 \\psi/\\partial y^2)_a$')\n",
    "    plt.show()\n",
    "    print(\"RMSE = %s\" % rmse)"
   ]
  },
  {
   "cell_type": "code",
   "execution_count": null,
   "metadata": {},
   "outputs": [],
   "source": [
    "# For a Seaborn heat map, reshape as (n_x, n_y), then transpose, then flip.\n",
    "Z = np.flip(Y_error.reshape((hp.nx_train, hp.ny_train)).T, axis=0)\n",
    "ax = sns.heatmap(Z)"
   ]
  },
  {
   "cell_type": "code",
   "execution_count": null,
   "metadata": {},
   "outputs": [],
   "source": []
  }
 ],
 "metadata": {
  "interpreter": {
   "hash": "a07c0acb169da517a2aee1af5715f209159e3774e84a59a2afbabbcc4a64edd9"
  },
  "kernelspec": {
   "display_name": "Python 3 (ipykernel)",
   "language": "python",
   "name": "python3"
  },
  "language_info": {
   "codemirror_mode": {
    "name": "ipython",
    "version": 3
   },
   "file_extension": ".py",
   "mimetype": "text/x-python",
   "name": "python",
   "nbconvert_exporter": "python",
   "pygments_lexer": "ipython3",
   "version": "3.8.13"
  }
 },
 "nbformat": 4,
 "nbformat_minor": 4
}
