{
 "cells": [
  {
   "cell_type": "code",
   "execution_count": null,
   "metadata": {},
   "outputs": [],
   "source": [
    "# Visualize the results from a ode1_coupled_pinn.py run."
   ]
  },
  {
   "cell_type": "markdown",
   "metadata": {},
   "source": []
  },
  {
   "cell_type": "code",
   "execution_count": null,
   "metadata": {},
   "outputs": [],
   "source": [
    "from importlib import import_module\n",
    "import os\n",
    "import numpy as np\n",
    "import matplotlib.pyplot as plt\n",
    "import sys"
   ]
  },
  {
   "cell_type": "code",
   "execution_count": null,
   "metadata": {},
   "outputs": [],
   "source": [
    "# Specify the run ID (aka problem name).\n",
    "runid = \"lagaris04\"\n",
    "\n",
    "# Add the subdirectory for the problem to the module search path.\n",
    "run_path = os.path.join(\".\", runid)\n",
    "sys.path.append(run_path)\n",
    "\n",
    "# Import the problem definition.\n",
    "p = import_module(runid)\n",
    "\n",
    "# Read the run hyperparameters.\n",
    "import hyperparameters as hp"
   ]
  },
  {
   "cell_type": "code",
   "execution_count": null,
   "metadata": {},
   "outputs": [],
   "source": [
    "# Load the training and validation points.\n",
    "x_train = np.loadtxt(os.path.join(runid, \"x_train.dat\"))\n",
    "x_val = np.loadtxt(os.path.join(runid, \"x_val.dat\"))"
   ]
  },
  {
   "cell_type": "code",
   "execution_count": null,
   "metadata": {},
   "outputs": [],
   "source": [
    "# Format the axis labels.\n",
    "xx = np.linspace(0, 1, hp.nx_train)\n",
    "x_labels = [\"%.1f\" % x for x in xx]"
   ]
  },
  {
   "cell_type": "code",
   "execution_count": null,
   "metadata": {},
   "outputs": [],
   "source": [
    "# Load the loss function histories.\n",
    "losses_y1 = np.loadtxt(os.path.join(runid, \"losses_y1.dat\"))\n",
    "losses_y2 = np.loadtxt(os.path.join(runid, \"losses_y2.dat\"))\n",
    "losses = np.loadtxt(os.path.join(runid, \"losses.dat\"))"
   ]
  },
  {
   "cell_type": "code",
   "execution_count": null,
   "metadata": {},
   "outputs": [],
   "source": [
    "# Plot the loss function histories.\n",
    "plt.semilogy(losses, label=\"L (total)\")\n",
    "plt.semilogy(losses, label=\"L (1)\")\n",
    "plt.semilogy(losses, label=\"L (2)\")\n",
    "plt.xlabel(\"Epoch\")\n",
    "plt.ylabel(\"Loss function\")\n",
    "plt.legend()\n",
    "plt.grid()\n",
    "plt.title(\"Loss function evolution for %s\\n$\\eta$=%s, H=%s, $n_x$=%s\" %\n",
    "          (runid, hp.learning_rate, hp.H, hp.nx_train))\n",
    "plt.show()"
   ]
  },
  {
   "cell_type": "code",
   "execution_count": null,
   "metadata": {},
   "outputs": [],
   "source": [
    "# Load the trained and validation y-values.\n",
    "y1_train = np.loadtxt(os.path.join(runid, \"y1_train.dat\"))\n",
    "y2_train = np.loadtxt(os.path.join(runid, \"y2_train.dat\"))\n",
    "y1_val = np.loadtxt(os.path.join(runid, \"y1_val.dat\"))\n",
    "y2_val = np.loadtxt(os.path.join(runid, \"y2_val.dat\"))\n"
   ]
  },
  {
   "cell_type": "code",
   "execution_count": null,
   "metadata": {},
   "outputs": [],
   "source": [
    "# Plot the trained y-values.\n",
    "plt.plot(x_train, y1_train, label=\"1\")\n",
    "plt.plot(x_train, y2_train, label=\"2\")\n",
    "plt.title(\"Trained y(x)\")\n",
    "plt.xlabel(\"x\")\n",
    "plt.ylabel(\"y\")\n",
    "plt.grid()\n",
    "plt.show()"
   ]
  },
  {
   "cell_type": "code",
   "execution_count": null,
   "metadata": {},
   "outputs": [],
   "source": [
    "# If solution available, plot the error in the trained y-values.\n",
    "if p.analytical_solution_1 is not None:\n",
    "    y1_analytical = p.analytical_solution_1(x_train)\n",
    "    y2_analytical = p.analytical_solution_2(x_train)\n",
    "    y1_error = y1_train - y1_analytical\n",
    "    y2_error = y2_train - y2_analytical\n",
    "    rmse1 = np.sqrt(np.sum(y1_error**2)/len(y1_error))\n",
    "    rmse2 = np.sqrt(np.sum(y2_error**2)/len(y2_error))\n",
    "    plt.plot(x_train, y1_error, label=\"1\")\n",
    "    plt.plot(x_train, y2_error, label=\"2\")\n",
    "    plt.title(\"Error in trained y(x)\")\n",
    "    plt.xlabel(\"x\")\n",
    "    plt.ylabel(\"$y_t - y_a$\")\n",
    "    plt.grid()\n",
    "    plt.show()\n",
    "    print(\"RMSE = (%s, %s)\" % (rmse1, rmse2))"
   ]
  },
  {
   "cell_type": "code",
   "execution_count": null,
   "metadata": {},
   "outputs": [],
   "source": [
    "# Plot the validation y-values.\n",
    "plt.plot(x_val, y1_val, label=\"1\")\n",
    "plt.plot(x_val, y2_val, label=\"2\")\n",
    "plt.title(\"Validation y(x)\")\n",
    "plt.xlabel(\"x\")\n",
    "plt.ylabel(\"y\")\n",
    "plt.grid()\n",
    "plt.show()"
   ]
  },
  {
   "cell_type": "code",
   "execution_count": null,
   "metadata": {},
   "outputs": [],
   "source": [
    "# If solution available, plot the error in the validation y-values.\n",
    "if p.analytical_solution_1 is not None:\n",
    "    y1_analytical = p.analytical_solution_1(x_val)\n",
    "    y2_analytical = p.analytical_solution_2(x_val)\n",
    "    y1_error = y1_val - y1_analytical\n",
    "    y2_error = y2_val - y2_analytical\n",
    "    rmse1 = np.sqrt(np.sum(y1_error**2)/len(y1_error))\n",
    "    rmse2 = np.sqrt(np.sum(y2_error**2)/len(y2_error))\n",
    "    plt.plot(x_val, y1_error, label=\"1\")\n",
    "    plt.plot(x_val, y2_error, label=\"2\")\n",
    "    plt.title(\"Error in validation y(x)\")\n",
    "    plt.xlabel(\"x\")\n",
    "    plt.ylabel(\"$y_v - y_a$\")\n",
    "    plt.grid()\n",
    "    plt.show()\n",
    "    print(\"RMSE = (%s, %s)\" % (rmse1, rmse2))"
   ]
  },
  {
   "cell_type": "code",
   "execution_count": null,
   "metadata": {},
   "outputs": [],
   "source": []
  }
 ],
 "metadata": {
  "interpreter": {
   "hash": "a07c0acb169da517a2aee1af5715f209159e3774e84a59a2afbabbcc4a64edd9"
  },
  "kernelspec": {
   "display_name": "Python 3 (ipykernel)",
   "language": "python",
   "name": "python3"
  },
  "language_info": {
   "codemirror_mode": {
    "name": "ipython",
    "version": 3
   },
   "file_extension": ".py",
   "mimetype": "text/x-python",
   "name": "python",
   "nbconvert_exporter": "python",
   "pygments_lexer": "ipython3",
   "version": "3.8.13"
  }
 },
 "nbformat": 4,
 "nbformat_minor": 4
}
