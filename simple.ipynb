{
 "cells": [
  {
   "cell_type": "code",
   "execution_count": 1,
   "metadata": {},
   "outputs": [],
   "source": [
    "# Visualize the results from a simple_pinn.py run."
   ]
  },
  {
   "cell_type": "markdown",
   "metadata": {},
   "source": []
  },
  {
   "cell_type": "code",
   "execution_count": 2,
   "metadata": {},
   "outputs": [],
   "source": [
    "import os\n",
    "import numpy as np\n",
    "import matplotlib.pyplot as plt\n",
    "import seaborn as sns\n",
    "import sys"
   ]
  },
  {
   "cell_type": "code",
   "execution_count": null,
   "metadata": {},
   "outputs": [],
   "source": [
    "# Specify the run ID (aka problem name).\n",
    "runid = \"linear\"\n",
    "\n",
    "# Add the subdirectory for the problem to the module search path.\n",
    "run_path = os.path.join(\".\", runid)\n",
    "sys.path.append(run_path)\n",
    "\n",
    "# Read the run hyperparameters.\n",
    "import hyperparameters as hp"
   ]
  },
  {
   "cell_type": "code",
   "execution_count": null,
   "metadata": {},
   "outputs": [],
   "source": [
    "# Load the training points.\n",
    "xt_train      = np.loadtxt(os.path.join(runid, \"xt_train.dat\"))\n",
    "\n",
    "# Extract the x-and t-grid values.\n",
    "x_train = xt_train[::hp.nt_train, 0]\n",
    "t_train = xt_train[:hp.nt_train, 1]"
   ]
  },
  {
   "cell_type": "code",
   "execution_count": null,
   "metadata": {},
   "outputs": [],
   "source": [
    "# Specify the times to plot.\n",
    "nt_plot = 11\n",
    "t_plot = np.linspace(0, 1, nt_plot)\n",
    "\n",
    "# Find the model times closest to the plot times.\n",
    "idx_plot = np.searchsorted(t_train, t_plot)"
   ]
  },
  {
   "cell_type": "code",
   "execution_count": null,
   "metadata": {},
   "outputs": [],
   "source": [
    "# Format the axis labels.\n",
    "xx = np.linspace(0, 1, hp.nx_train)\n",
    "tt = np.linspace(0, 1, hp.nt_train)\n",
    "x_labels = [\"%.1f\" % x for x in xx]\n",
    "t_labels = [\"%.1f\" % t for t in tt]\n",
    "t_labels.reverse()"
   ]
  },
  {
   "cell_type": "code",
   "execution_count": null,
   "metadata": {},
   "outputs": [],
   "source": [
    "# Load the loss function histories.\n",
    "losses      = np.loadtxt(os.path.join(runid, \"losses.dat\"))\n",
    "losses_rho  = np.loadtxt(os.path.join(runid, \"losses_rho.dat\"))\n",
    "losses_P    = np.loadtxt(os.path.join(runid, \"losses_P.dat\"))\n",
    "losses_vx   = np.loadtxt(os.path.join(runid, \"losses_vx.dat\"))\n",
    "losses_vy   = np.loadtxt(os.path.join(runid, \"losses_vy.dat\"))\n",
    "losses_vz   = np.loadtxt(os.path.join(runid, \"losses_vz.dat\"))\n",
    "losses_By   = np.loadtxt(os.path.join(runid, \"losses_By.dat\"))\n",
    "losses_Bz   = np.loadtxt(os.path.join(runid, \"losses_Bz.dat\"))"
   ]
  },
  {
   "cell_type": "code",
   "execution_count": null,
   "metadata": {},
   "outputs": [],
   "source": [
    "# Plot the loss function histories.\n",
    "plt.semilogy(losses,     label=\"L (total)\")\n",
    "plt.semilogy(losses_rho, label=\"L ($\\\\rho$)\")\n",
    "plt.semilogy(losses_P,   label=\"L ($P$)\")\n",
    "plt.semilogy(losses_vx,  label=\"L ($v_x$)\")\n",
    "plt.semilogy(losses_vy,  label=\"L ($v_y$)\")\n",
    "plt.semilogy(losses_vz,  label=\"L ($v_z$)\")\n",
    "plt.semilogy(losses_By,  label=\"L ($B_y$)\")\n",
    "plt.semilogy(losses_Bz,  label=\"L ($B_z$)\")\n",
    "plt.xlabel(\"Epoch\")\n",
    "plt.ylabel(\"Loss function\")\n",
    "plt.legend()\n",
    "plt.grid()\n",
    "plt.title(\"Loss function evolution for %s\\n$\\eta$=%s, H=%s, ($n_x$, $n_t$)=(%s, %s)\" %\n",
    "          (runid, hp.learning_rate, hp.H, hp.nx_train, hp.nt_train))\n",
    "plt.show()"
   ]
  },
  {
   "cell_type": "code",
   "execution_count": null,
   "metadata": {},
   "outputs": [],
   "source": [
    "rho_train = np.loadtxt(os.path.join(runid, \"rho_train.dat\")).reshape(hp.nx_train, hp.nt_train)\n",
    "\n",
    "# For a Seaborn heat map, reshape as (n_x, n_y), then transpose, then flip.\n",
    "Z = np.flip(rho_train.T, axis=0)\n",
    "ax = sns.heatmap(Z, xticklabels=x_labels, yticklabels=t_labels)\n",
    "ax.set_title(\"$\\\\rho$\")\n",
    "ax.set_xlabel(\"x\")\n",
    "ax.set_ylabel(\"t\")\n",
    "plt.show()"
   ]
  },
  {
   "cell_type": "code",
   "execution_count": null,
   "metadata": {},
   "outputs": [],
   "source": [
    "for (i, idx) in enumerate(idx_plot):\n",
    "    plt.plot(x_train, rho_train[:, idx], label=\"t=%.1f\" % t_plot[i])\n",
    "plt.legend()\n",
    "plt.title(\"$\\\\rho$\")\n",
    "plt.xlabel(\"x\")\n",
    "plt.grid()\n",
    "plt.show()"
   ]
  },
  {
   "cell_type": "code",
   "execution_count": null,
   "metadata": {},
   "outputs": [],
   "source": [
    "P_train = np.loadtxt(os.path.join(runid, \"P_train.dat\")).reshape(hp.nx_train, hp.nt_train)\n",
    "\n",
    "# For a Seaborn heat map, reshape as (n_x, n_y), then transpose, then flip.\n",
    "Z = np.flip(P_train.T, axis=0)\n",
    "ax = sns.heatmap(Z, xticklabels=x_labels, yticklabels=t_labels)\n",
    "ax.set_title(\"$P$\")\n",
    "ax.set_xlabel(\"x\")\n",
    "ax.set_ylabel(\"t\")\n",
    "plt.show()"
   ]
  },
  {
   "cell_type": "code",
   "execution_count": null,
   "metadata": {},
   "outputs": [],
   "source": [
    "for (i, idx) in enumerate(idx_plot):\n",
    "    plt.plot(x_train, P_train[:, idx], label=\"t=%.1f\" % t_plot[i])\n",
    "plt.legend()\n",
    "plt.title(\"$P$\")\n",
    "plt.xlabel(\"x\")\n",
    "plt.grid()\n",
    "plt.show()"
   ]
  },
  {
   "cell_type": "code",
   "execution_count": null,
   "metadata": {},
   "outputs": [],
   "source": [
    "vx_train = np.loadtxt(os.path.join(runid, \"vx_train.dat\")).reshape(hp.nx_train, hp.nt_train)\n",
    "\n",
    "# For a Seaborn heat map, reshape as (n_x, n_y), then transpose, then flip.\n",
    "Z = np.flip(vx_train.T, axis=0)\n",
    "ax = sns.heatmap(Z, xticklabels=x_labels, yticklabels=t_labels)\n",
    "ax.set_title(\"$v_x$\")\n",
    "ax.set_xlabel(\"x\")\n",
    "ax.set_ylabel(\"t\")\n",
    "plt.show()"
   ]
  },
  {
   "cell_type": "code",
   "execution_count": null,
   "metadata": {},
   "outputs": [],
   "source": [
    "for (i, idx) in enumerate(idx_plot):\n",
    "    plt.plot(x_train, vx_train[:, idx], label=\"t=%.1f\" % t_plot[i])\n",
    "plt.legend()\n",
    "plt.title(\"$v_x$\")\n",
    "plt.xlabel(\"x\")\n",
    "plt.grid()\n",
    "plt.show()"
   ]
  },
  {
   "cell_type": "code",
   "execution_count": null,
   "metadata": {},
   "outputs": [],
   "source": [
    "vy_train = np.loadtxt(os.path.join(runid, \"vy_train.dat\")).reshape(hp.nx_train, hp.nt_train)\n",
    "\n",
    "# For a Seaborn heat map, reshape as (n_x, n_y), then transpose, then flip.\n",
    "Z = np.flip(vy_train.T, axis=0)\n",
    "ax = sns.heatmap(Z, xticklabels=x_labels, yticklabels=t_labels)\n",
    "ax.set_title(\"$v_y$\")\n",
    "ax.set_xlabel(\"x\")\n",
    "ax.set_ylabel(\"t\")\n",
    "plt.show()"
   ]
  },
  {
   "cell_type": "code",
   "execution_count": null,
   "metadata": {},
   "outputs": [],
   "source": [
    "for (i, idx) in enumerate(idx_plot):\n",
    "    plt.plot(x_train, vy_train[:, idx], label=\"t=%.1f\" % t_plot[i])\n",
    "plt.legend()\n",
    "plt.title(\"$v_y$\")\n",
    "plt.xlabel(\"x\")\n",
    "plt.grid()\n",
    "plt.show()"
   ]
  },
  {
   "cell_type": "code",
   "execution_count": null,
   "metadata": {},
   "outputs": [],
   "source": [
    "vz_train = np.loadtxt(os.path.join(runid, \"vz_train.dat\")).reshape(hp.nx_train, hp.nt_train)\n",
    "\n",
    "# For a Seaborn heat map, reshape as (n_x, n_y), then transpose, then flip.\n",
    "Z = np.flip(vz_train.T, axis=0)\n",
    "ax = sns.heatmap(Z, xticklabels=x_labels, yticklabels=t_labels)\n",
    "ax.set_title(\"$v_z$\")\n",
    "ax.set_xlabel(\"x\")\n",
    "ax.set_ylabel(\"t\")\n",
    "plt.show()"
   ]
  },
  {
   "cell_type": "code",
   "execution_count": null,
   "metadata": {},
   "outputs": [],
   "source": [
    "for (i, idx) in enumerate(idx_plot):\n",
    "    plt.plot(x_train, vz_train[:, idx], label=\"t=%.1f\" % t_plot[i])\n",
    "plt.legend()\n",
    "plt.title(\"$v_z$\")\n",
    "plt.xlabel(\"x\")\n",
    "plt.grid()\n",
    "plt.show()"
   ]
  },
  {
   "cell_type": "code",
   "execution_count": null,
   "metadata": {},
   "outputs": [],
   "source": [
    "By_train = np.loadtxt(os.path.join(runid, \"By_train.dat\")).reshape(hp.nx_train, hp.nt_train)\n",
    "\n",
    "# For a Seaborn heat map, reshape as (n_x, n_y), then transpose, then flip.\n",
    "Z = np.flip(By_train.T, axis=0)\n",
    "ax = sns.heatmap(Z, xticklabels=x_labels, yticklabels=t_labels)\n",
    "ax.set_title(\"$B_y$\")\n",
    "ax.set_xlabel(\"x\")\n",
    "ax.set_ylabel(\"t\")\n",
    "plt.show()"
   ]
  },
  {
   "cell_type": "code",
   "execution_count": null,
   "metadata": {},
   "outputs": [],
   "source": [
    "for (i, idx) in enumerate(idx_plot):\n",
    "    plt.plot(x_train, By_train[:, idx], label=\"t=%.1f\" % t_plot[i])\n",
    "plt.legend()\n",
    "plt.title(\"$B_y$\")\n",
    "plt.xlabel(\"x\")\n",
    "plt.grid()\n",
    "plt.show()"
   ]
  },
  {
   "cell_type": "code",
   "execution_count": null,
   "metadata": {},
   "outputs": [],
   "source": [
    "Bz_train = np.loadtxt(os.path.join(runid, \"Bz_train.dat\")).reshape(hp.nx_train, hp.nt_train)\n",
    "\n",
    "# For a Seaborn heat map, reshape as (n_x, n_y), then transpose, then flip.\n",
    "Z = np.flip(Bz_train.T, axis=0)\n",
    "ax = sns.heatmap(Z, xticklabels=x_labels, yticklabels=t_labels)\n",
    "ax.set_title(\"$B_z$\")\n",
    "ax.set_xlabel(\"x\")\n",
    "ax.set_ylabel(\"t\")\n",
    "plt.show()"
   ]
  },
  {
   "cell_type": "code",
   "execution_count": null,
   "metadata": {},
   "outputs": [],
   "source": [
    "for (i, idx) in enumerate(idx_plot):\n",
    "    plt.plot(x_train, Bz_train[:, idx], label=\"t=%.1f\" % t_plot[i])\n",
    "plt.legend()\n",
    "plt.title(\"$B_z$\")\n",
    "plt.xlabel(\"x\")\n",
    "plt.grid()\n",
    "plt.show()"
   ]
  },
  {
   "cell_type": "code",
   "execution_count": null,
   "metadata": {},
   "outputs": [],
   "source": []
  }
 ],
 "metadata": {
  "interpreter": {
   "hash": "a07c0acb169da517a2aee1af5715f209159e3774e84a59a2afbabbcc4a64edd9"
  },
  "kernelspec": {
   "display_name": "Python 3 (ipykernel)",
   "language": "python",
   "name": "python3"
  },
  "language_info": {
   "codemirror_mode": {
    "name": "ipython",
    "version": 3
   },
   "file_extension": ".py",
   "mimetype": "text/x-python",
   "name": "python",
   "nbconvert_exporter": "python",
   "pygments_lexer": "ipython3",
   "version": "3.8.13"
  }
 },
 "nbformat": 4,
 "nbformat_minor": 4
}
